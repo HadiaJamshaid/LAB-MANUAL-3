{
 "cells": [
  {
   "cell_type": "code",
   "execution_count": 3,
   "id": "c723af6f",
   "metadata": {},
   "outputs": [
    {
     "name": "stdout",
     "output_type": "stream",
     "text": [
      "enter your number:12345\n",
      "15\n"
     ]
    }
   ],
   "source": [
    "##Task 1\n",
    "i=0\n",
    "add=0\n",
    "number=input(\"enter your number:\")\n",
    "\n",
    "for i in number:\n",
    "    add+=int(i)\n",
    "   \n",
    "print(add)"
   ]
  },
  {
   "cell_type": "code",
   "execution_count": 5,
   "id": "f28f49ac",
   "metadata": {},
   "outputs": [
    {
     "name": "stdout",
     "output_type": "stream",
     "text": [
      "Enter String : 1234\n",
      "************OUTPUT**************\n",
      "4 43 432 4321 "
     ]
    }
   ],
   "source": [
    "## Task3\n",
    "name = input(\"Enter String : \")\n",
    "size=len(name)\n",
    "counter = -1\n",
    "ch=\"\"\n",
    "print(\"************OUTPUT**************\")\n",
    "for i in range(0,size):\n",
    "    ch=ch+name[counter]\n",
    "    print(ch,end =\" \")\n",
    "    counter=counter-1"
   ]
  },
  {
   "cell_type": "code",
   "execution_count": 10,
   "id": "14bc9e8b",
   "metadata": {},
   "outputs": [
    {
     "name": "stdout",
     "output_type": "stream",
     "text": [
      "Enter telephone number in XXX-XXX-XXXX format:555-get-food\n",
      "Your Telephone number is : 555-438-3663\n"
     ]
    }
   ],
   "source": [
    "## task 4\n",
    "def convertNumber(ph):\n",
    "    ph=ph.upper()\n",
    "    phInDigit=\"\"\n",
    "    for i in range(0,len(ph)):\n",
    "        if(ph[i]=='A' or ph[i]=='B' or ph[i]=='C'):\n",
    "            phInDigit=phInDigit+\"2\"\n",
    "        elif(ph[i]=='D' or ph[i]=='E'or ph[i]=='F'):\n",
    "            phInDigit=phInDigit+\"3\"\n",
    "        elif(ph[i]=='G' or ph[i]=='H'or ph[i]=='I'):\n",
    "            phInDigit=phInDigit+\"4\"\n",
    "        elif(ph[i]=='J' or ph[i]=='K'or ph[i]=='L'):\n",
    "            phInDigit=phInDigit+\"5\"\n",
    "        elif(ph[i]=='M' or ph[i]=='N'or ph[i]=='O'):\n",
    "            phInDigit=phInDigit+\"6\"\n",
    "        elif(ph[i]=='P' or ph[i]=='Q'or ph[i]=='R'or ph[i]=='S'):\n",
    "            phInDigit=phInDigit+\"7\"\n",
    "        elif(ph[i]=='T' or ph[i]=='U'or ph[i]=='V'):\n",
    "            phInDigit=phInDigit+\"8\"\n",
    "        elif(ph[i]=='W' or ph[i]=='X'or ph[i]=='Y'or ph[i]=='Z'):\n",
    "            phInDigit=phInDigit+\"9\"\n",
    "        else:\n",
    "            phInDigit=phInDigit+ph[i]\n",
    "    return phInDigit\n",
    "\n",
    "ph=input(\"Enter telephone number in XXX-XXX-XXXX format:\")\n",
    "#check format\n",
    "if(len(ph)!=12):\n",
    "    print(\"Invalid phone number length\")\n",
    "elif(ph[3]!='-' or ph[7]!='-'):\n",
    "    print(\"Invalid format\")\n",
    "else:\n",
    "    phInDigits=convertNumber(ph)\n",
    "    print(\"Your Telephone number is :\",phInDigits)"
   ]
  },
  {
   "cell_type": "code",
   "execution_count": 13,
   "id": "471814f3",
   "metadata": {},
   "outputs": [
    {
     "name": "stdout",
     "output_type": "stream",
     "text": [
      "Enter a sentence =hadia.is\n",
      "Your sentence : Hadia.Is\n"
     ]
    }
   ],
   "source": [
    "##Task 6\n",
    "sentence=input(\"Enter a sentence =\")\n",
    "result=\"\"\n",
    "result=result+sentence[0].upper()\n",
    "for i in range(1,len(sentence)):\n",
    "    if((sentence[i-1]==\".\" or sentence[i-1]==\"?\"or sentence[i-1]==\"!\")and i<len(sentence)-1):\n",
    "        result=result+sentence[i].upper()\n",
    "    else:\n",
    "        result=result+sentence[i]\n",
    "print(\"Your sentence :\",result)"
   ]
  },
  {
   "cell_type": "code",
   "execution_count": 14,
   "id": "0cfacfe6",
   "metadata": {},
   "outputs": [
    {
     "name": "stdout",
     "output_type": "stream",
     "text": [
      "Enter a sentence =my name is eman\n",
      "Your sentence : ymAY amenAY siAY maneAY \n"
     ]
    }
   ],
   "source": [
    "##Task 7\n",
    "sentence=input(\"Enter a sentence =\")\n",
    "result=\"\"\n",
    "Words=sentence.split(\" \")\n",
    "for i in range(0,len(Words)):\n",
    "    if(len(Words[i])>1):\n",
    "         result=result+(Words[i])[1:len(Words[i])]+(Words[i])[0]+\"AY \"\n",
    "    else:\n",
    "        result=result+Words[i]+\"AY \"\n",
    "    \n",
    "\n",
    "\n",
    "print(\"Your sentence :\",result)"
   ]
  },
  {
   "cell_type": "code",
   "execution_count": null,
   "id": "b955587b",
   "metadata": {},
   "outputs": [],
   "source": []
  }
 ],
 "metadata": {
  "kernelspec": {
   "display_name": "Python 3",
   "language": "python",
   "name": "python3"
  },
  "language_info": {
   "codemirror_mode": {
    "name": "ipython",
    "version": 3
   },
   "file_extension": ".py",
   "mimetype": "text/x-python",
   "name": "python",
   "nbconvert_exporter": "python",
   "pygments_lexer": "ipython3",
   "version": "3.8.8"
  }
 },
 "nbformat": 4,
 "nbformat_minor": 5
}
